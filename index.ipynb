{
 "cells": [
  {
   "cell_type": "markdown",
   "metadata": {},
   "source": [
    "# Market Segmentation with Clustering - Lab\n",
    "\n",
    "## Introduction\n",
    "\n",
    "In this lab, you'll use your knowledge of clustering to perform market segmentation on a real-world dataset!\n",
    "\n",
    "## Objectives\n",
    "\n",
    "In this lab you will: \n",
    "\n",
    "- Use clustering to create and interpret market segmentation on real-world data \n",
    "\n",
    "## Getting Started\n",
    "\n",
    "In this lab, you're going to work with the [Wholesale customers dataset](https://archive.ics.uci.edu/ml/datasets/wholesale+customers) from the UCI Machine Learning datasets repository. This dataset contains data on wholesale purchasing information from real businesses. These businesses range from small cafes and hotels to grocery stores and other retailers. \n",
    "\n",
    "Here's the data dictionary for this dataset:\n",
    "\n",
    "|      Column      |                                               Description                                              |\n",
    "|:----------------:|:------------------------------------------------------------------------------------------------------:|\n",
    "|       FRESH      |                    Annual spending on fresh products, such as fruits and vegetables                    |\n",
    "|       MILK       |                               Annual spending on milk and dairy products                               |\n",
    "|      GROCERY     |                                   Annual spending on grocery products                                  |\n",
    "|      FROZEN      |                                   Annual spending on frozen products                                   |\n",
    "| DETERGENTS_PAPER |                  Annual spending on detergents, cleaning supplies, and paper products                  |\n",
    "|   DELICATESSEN   |                           Annual spending on meats and delicatessen products                           |\n",
    "|      CHANNEL     | Type of customer.  1=Hotel/Restaurant/Cafe, 2=Retailer. (This is what we'll use clustering to predict) |\n",
    "|      REGION      |            Region of Portugal that the customer is located in. (This column will be dropped)           |\n",
    "\n",
    "\n",
    "\n",
    "One benefit of working with this dataset for practice with segmentation is that we actually have the ground-truth labels of what market segment each customer actually belongs to. For this reason, we'll borrow some methodology from supervised learning and store these labels separately, so that we can use them afterward to check how well our clustering segmentation actually performed. \n",
    "\n",
    "Let's get started by importing everything we'll need.\n",
    "\n",
    "In the cell below:\n",
    "\n",
    "* Import `pandas`, `numpy`, and `matplotlib.pyplot`, and set the standard alias for each. \n",
    "* Use `numpy` to set a random seed of `0`.\n",
    "* Set all matplotlib visualizations to appear inline."
   ]
  },
  {
   "cell_type": "code",
   "execution_count": 1,
   "metadata": {},
   "outputs": [],
   "source": [
    "import pandas as pd\n",
    "import numpy as np\n",
    "np.random.seed(seed=0)\n",
    "import matplotlib.pyplot as plt\n",
    "%matplotlib inline\n",
    "from sklearn.cluster import KMeans"
   ]
  },
  {
   "cell_type": "markdown",
   "metadata": {},
   "source": [
    "Now, let's load our data and inspect it. You'll find the data stored in `'wholesale_customers_data.csv'`. \n",
    "\n",
    "In the cell below, load the data into a DataFrame and then display the first five rows to ensure everything loaded correctly."
   ]
  },
  {
   "cell_type": "code",
   "execution_count": 3,
   "metadata": {
    "scrolled": false
   },
   "outputs": [
    {
     "data": {
      "text/html": [
       "<div>\n",
       "<style scoped>\n",
       "    .dataframe tbody tr th:only-of-type {\n",
       "        vertical-align: middle;\n",
       "    }\n",
       "\n",
       "    .dataframe tbody tr th {\n",
       "        vertical-align: top;\n",
       "    }\n",
       "\n",
       "    .dataframe thead th {\n",
       "        text-align: right;\n",
       "    }\n",
       "</style>\n",
       "<table border=\"1\" class=\"dataframe\">\n",
       "  <thead>\n",
       "    <tr style=\"text-align: right;\">\n",
       "      <th></th>\n",
       "      <th>Channel</th>\n",
       "      <th>Region</th>\n",
       "      <th>Fresh</th>\n",
       "      <th>Milk</th>\n",
       "      <th>Grocery</th>\n",
       "      <th>Frozen</th>\n",
       "      <th>Detergents_Paper</th>\n",
       "      <th>Delicassen</th>\n",
       "    </tr>\n",
       "  </thead>\n",
       "  <tbody>\n",
       "    <tr>\n",
       "      <td>0</td>\n",
       "      <td>2</td>\n",
       "      <td>3</td>\n",
       "      <td>12669</td>\n",
       "      <td>9656</td>\n",
       "      <td>7561</td>\n",
       "      <td>214</td>\n",
       "      <td>2674</td>\n",
       "      <td>1338</td>\n",
       "    </tr>\n",
       "    <tr>\n",
       "      <td>1</td>\n",
       "      <td>2</td>\n",
       "      <td>3</td>\n",
       "      <td>7057</td>\n",
       "      <td>9810</td>\n",
       "      <td>9568</td>\n",
       "      <td>1762</td>\n",
       "      <td>3293</td>\n",
       "      <td>1776</td>\n",
       "    </tr>\n",
       "  </tbody>\n",
       "</table>\n",
       "</div>"
      ],
      "text/plain": [
       "   Channel  Region  Fresh  Milk  Grocery  Frozen  Detergents_Paper  Delicassen\n",
       "0        2       3  12669  9656     7561     214              2674        1338\n",
       "1        2       3   7057  9810     9568    1762              3293        1776"
      ]
     },
     "execution_count": 3,
     "metadata": {},
     "output_type": "execute_result"
    }
   ],
   "source": [
    "raw_df = pd.read_csv('wholesale_customers_data.csv')\n",
    "raw_df.head(2)"
   ]
  },
  {
   "cell_type": "code",
   "execution_count": 4,
   "metadata": {},
   "outputs": [
    {
     "data": {
      "text/plain": [
       "(440, 8)"
      ]
     },
     "execution_count": 4,
     "metadata": {},
     "output_type": "execute_result"
    }
   ],
   "source": [
    "raw_df.shape"
   ]
  },
  {
   "cell_type": "markdown",
   "metadata": {},
   "source": [
    "Now, let's go ahead and store the `'Channel'` column in a separate variable and then drop both the `'Channel'` and `'Region'` columns. Then, display the first five rows of the new DataFrame to ensure everything worked correctly. "
   ]
  },
  {
   "cell_type": "code",
   "execution_count": 8,
   "metadata": {},
   "outputs": [],
   "source": [
    "channels = raw_df['Channel']\n",
    "df = raw_df.drop(['Channel', 'Region'], axis = 1 )"
   ]
  },
  {
   "cell_type": "markdown",
   "metadata": {},
   "source": [
    "Now, let's get right down to it and begin our clustering analysis. \n",
    "\n",
    "In the cell below:\n",
    "\n",
    "* Import `KMeans` from `sklearn.cluster`, and then create an instance of it. Set the number of clusters to `2`\n",
    "* Fit it to the data (`df`) \n",
    "* Get the predictions from the clustering algorithm and store them in `cluster_preds` "
   ]
  },
  {
   "cell_type": "code",
   "execution_count": 10,
   "metadata": {},
   "outputs": [],
   "source": [
    "k_means = KMeans()\n",
    "k_means.fit(df)\n",
    "cluster_preds = k_means.predict(df)"
   ]
  },
  {
   "cell_type": "markdown",
   "metadata": {},
   "source": [
    "Now, use some of the metrics to check the performance. You'll use `calinski_harabasz_score()` and `adjusted_rand_score()`, which can both be found inside `sklearn.metrics.cluster`. \n",
    "\n",
    "In the cell below, import these scoring functions. "
   ]
  },
  {
   "cell_type": "code",
   "execution_count": 12,
   "metadata": {},
   "outputs": [],
   "source": [
    "from sklearn.metrics.cluster import calinski_harabasz_score, adjusted_rand_score"
   ]
  },
  {
   "cell_type": "markdown",
   "metadata": {},
   "source": [
    "Now, start with CH score to get the variance ratio. "
   ]
  },
  {
   "cell_type": "code",
   "execution_count": 13,
   "metadata": {},
   "outputs": [
    {
     "data": {
      "text/plain": [
       "87.53467078529049"
      ]
     },
     "execution_count": 13,
     "metadata": {},
     "output_type": "execute_result"
    }
   ],
   "source": [
    "calinski_harabasz_score(df, channels)"
   ]
  },
  {
   "cell_type": "markdown",
   "metadata": {},
   "source": [
    "Although you don't have any other numbers to compare this to, this is a pretty low score, suggesting that the clusters aren't great. \n",
    "\n",
    "Since you actually have ground-truth labels, in this case you can use `adjusted_rand_score()` to check how well the clustering performed. Adjusted Rand score is meant to compare two clusterings, which the score can interpret our labels as. This will tell us how similar the predicted clusters are to the actual channels. \n",
    "\n",
    "Adjusted Rand score is bounded between -1 and 1. A score close to 1 shows that the clusters are almost identical. A score close to 0 means that predictions are essentially random, while a score close to -1 means that the predictions are pathologically bad, since they are worse than random chance. \n",
    "\n",
    "In the cell below, call `adjusted_rand_score()` and pass in `channels` and `cluster_preds` to see how well your first iteration of clustering performed. "
   ]
  },
  {
   "cell_type": "code",
   "execution_count": 22,
   "metadata": {},
   "outputs": [
    {
     "data": {
      "text/plain": [
       "0.21983331011500093"
      ]
     },
     "execution_count": 22,
     "metadata": {},
     "output_type": "execute_result"
    }
   ],
   "source": [
    "adjusted_rand_score(channels, cluster_preds)"
   ]
  },
  {
   "cell_type": "markdown",
   "metadata": {},
   "source": [
    "According to these results, the clusterings were essentially no better than random chance. Let's see if you can improve this. \n",
    "\n",
    "### Scaling our dataset\n",
    "\n",
    "Recall that k-means clustering is heavily affected by scaling. Since the clustering algorithm is distance-based, this makes sense. Let's use `StandardScaler` to scale our dataset and then try our clustering again and see if the results are different. \n",
    "\n",
    "In the cells below:\n",
    "\n",
    "* Import and instantiate [StandardScaler](https://scikit-learn.org/stable/modules/generated/sklearn.preprocessing.StandardScaler.html) and use it to transform the dataset  \n",
    "* Instantiate and fit k-means to this scaled data, and then use it to predict clusters \n",
    "* Calculate the adjusted Rand score for these new predictions "
   ]
  },
  {
   "cell_type": "code",
   "execution_count": 17,
   "metadata": {},
   "outputs": [],
   "source": [
    "from sklearn.preprocessing import StandardScaler\n",
    "scaler = StandardScaler()\n",
    "scaled_df = scaler.fit_transform(df)"
   ]
  },
  {
   "cell_type": "code",
   "execution_count": 20,
   "metadata": {},
   "outputs": [],
   "source": [
    "scaled_k_means = KMeans()\n",
    "scaled_k_means.fit(scaled_df)\n",
    "scaled_preds = scaled_k_means.predict(scaled_df)"
   ]
  },
  {
   "cell_type": "code",
   "execution_count": 23,
   "metadata": {},
   "outputs": [
    {
     "data": {
      "text/plain": [
       "93.98377755261515"
      ]
     },
     "execution_count": 23,
     "metadata": {},
     "output_type": "execute_result"
    }
   ],
   "source": [
    "calinski_harabasz_score(scaled_df, channels)"
   ]
  },
  {
   "cell_type": "code",
   "execution_count": 21,
   "metadata": {},
   "outputs": [
    {
     "data": {
      "text/plain": [
       "0.3219434602357454"
      ]
     },
     "execution_count": 21,
     "metadata": {},
     "output_type": "execute_result"
    }
   ],
   "source": [
    "adjusted_rand_score(channels, scaled_preds)"
   ]
  },
  {
   "cell_type": "markdown",
   "metadata": {},
   "source": [
    "That's a big improvement! Although it's not perfect, we can see that scaling our data had a significant effect on the quality of our clusters. \n",
    "\n",
    "## Incorporating PCA\n",
    "\n",
    "Since clustering algorithms are distance-based, this means that dimensionality has a definite effect on their performance. The greater the dimensionality of the dataset, the greater the total area that we have to worry about our clusters existing in. Let's try using Principal Component Analysis to transform our data and see if this affects the performance of our clustering algorithm. \n",
    "\n",
    "Since you've already seen PCA in a previous section, we will let you figure this out by yourself. \n",
    "\n",
    "In the cells below:\n",
    "\n",
    "* Import [PCA](https://scikit-learn.org/stable/modules/generated/sklearn.decomposition.PCA.html) from the appropriate module in sklearn \n",
    "* Create a `PCA` instance and use it to transform our scaled data  \n",
    "* Investigate the explained variance ratio for each Principal Component. Consider dropping certain components to reduce dimensionality if you feel it is worth the loss of information \n",
    "* Create a new `KMeans` object, fit it to our PCA-transformed data, and check the adjusted Rand score of the predictions it makes. \n",
    "\n",
    "**_NOTE:_** Your overall goal here is to get the highest possible adjusted Rand score. Don't be afraid to change parameters and rerun things to see how it changes. "
   ]
  },
  {
   "cell_type": "code",
   "execution_count": 25,
   "metadata": {},
   "outputs": [],
   "source": [
    "from sklearn.decomposition import PCA"
   ]
  },
  {
   "cell_type": "code",
   "execution_count": 26,
   "metadata": {},
   "outputs": [],
   "source": [
    "pca = PCA()\n",
    "\n",
    "princ_comp = pca.fit_transform(scaled_df)"
   ]
  },
  {
   "cell_type": "code",
   "execution_count": 27,
   "metadata": {
    "scrolled": true
   },
   "outputs": [
    {
     "data": {
      "text/plain": [
       "(440, 6)"
      ]
     },
     "execution_count": 27,
     "metadata": {},
     "output_type": "execute_result"
    }
   ],
   "source": [
    "princ_comp.shape"
   ]
  },
  {
   "cell_type": "code",
   "execution_count": 28,
   "metadata": {},
   "outputs": [
    {
     "data": {
      "text/plain": [
       "array([0.44082893, 0.283764  , 0.12334413, 0.09395504, 0.04761272,\n",
       "       0.01049519])"
      ]
     },
     "execution_count": 28,
     "metadata": {},
     "output_type": "execute_result"
    }
   ],
   "source": [
    "pca.explained_variance_ratio_"
   ]
  },
  {
   "cell_type": "code",
   "execution_count": 29,
   "metadata": {
    "scrolled": true
   },
   "outputs": [
    {
     "data": {
      "image/png": "[encoded data removed]",
      "text/plain": [
       "<Figure size 432x288 with 1 Axes>"
      ]
     },
     "metadata": {
      "needs_background": "light"
     },
     "output_type": "display_data"
    }
   ],
   "source": [
    "plt.plot(range(1,7), pca.explained_variance_ratio_.cumsum())\n",
    "plt.title('Total Variance Explained by Varying Number of Principle Components');"
   ]
  },
  {
   "cell_type": "code",
   "execution_count": 31,
   "metadata": {},
   "outputs": [
    {
     "name": "stdout",
     "output_type": "stream",
     "text": [
      "0.9418920905750295\n",
      "3\n"
     ]
    }
   ],
   "source": [
    "var = 0\n",
    "increm = 0\n",
    "while var < .90:\n",
    "    var += pca.explained_variance_ratio_[increm]\n",
    "    increm += 1\n",
    "print(var)\n",
    "print(increm - 1)"
   ]
  },
  {
   "cell_type": "code",
   "execution_count": 33,
   "metadata": {},
   "outputs": [],
   "source": [
    "pca_3 = PCA(n_components = 3)\n",
    "\n",
    "principalComponents_3 = pca_3.fit_transform(scaled_df)\n",
    "\n",
    "pca_3_k_means = KMeans()\n",
    "pca_3_k_means.fit(principalComponents_3)\n",
    "pca_3_preds = pca_3_k_means.predict(principalComponents_3)"
   ]
  },
  {
   "cell_type": "code",
   "execution_count": 38,
   "metadata": {},
   "outputs": [
    {
     "data": {
      "text/plain": [
       "0.2586088261442946"
      ]
     },
     "execution_count": 38,
     "metadata": {},
     "output_type": "execute_result"
    }
   ],
   "source": [
    "adjusted_rand_score(channels, pca_3_preds)"
   ]
  },
  {
   "cell_type": "code",
   "execution_count": 35,
   "metadata": {},
   "outputs": [],
   "source": [
    "pca_4 = PCA(n_components = 4)\n",
    "\n",
    "principalComponents_4 = pca_4.fit_transform(scaled_df)\n",
    "\n",
    "pca_4_k_means = KMeans()\n",
    "pca_4_k_means.fit(principalComponents_4)\n",
    "pca_4_preds = pca_4_k_means.predict(principalComponents_4)"
   ]
  },
  {
   "cell_type": "code",
   "execution_count": 37,
   "metadata": {},
   "outputs": [
    {
     "data": {
      "text/plain": [
       "0.2852614233692585"
      ]
     },
     "execution_count": 37,
     "metadata": {},
     "output_type": "execute_result"
    }
   ],
   "source": [
    "adjusted_rand_score(channels, pca_4_preds)"
   ]
  },
  {
   "cell_type": "markdown",
   "metadata": {},
   "source": [
    "**_Question_**:  What was the Highest Adjusted Rand Score you achieved? Interpret this score and determine the overall quality of the clustering. Did PCA affect the performance overall?  How many principal components resulted in the best overall clustering performance? Why do you think this is?\n",
    "\n",
    "Write your answer below this line:\n",
    "_______________________________________________________________________________________________________________________________"
   ]
  },
  {
   "cell_type": "markdown",
   "metadata": {},
   "source": [
    "## Optional (Level up) \n",
    "\n",
    "### Hierarchical Agglomerative Clustering\n",
    "\n",
    "Now that we've tried doing market segmentation with k-means clustering, let's end this lab by trying with HAC!\n",
    "\n",
    "In the cells below, use [Agglomerative clustering](https://scikit-learn.org/stable/modules/generated/sklearn.cluster.AgglomerativeClustering.html) to make cluster predictions on the datasets we've created and see how HAC's performance compares to k-mean's performance. \n",
    "\n",
    "**_NOTE_**: Don't just try HAC on the PCA-transformed dataset -- also compare algorithm performance on the scaled and unscaled datasets, as well! "
   ]
  },
  {
   "cell_type": "code",
   "execution_count": 39,
   "metadata": {},
   "outputs": [],
   "source": [
    "from sklearn.cluster import AgglomerativeClustering"
   ]
  },
  {
   "cell_type": "code",
   "execution_count": 44,
   "metadata": {},
   "outputs": [
    {
     "data": {
      "text/plain": [
       "(440, 6)"
      ]
     },
     "execution_count": 44,
     "metadata": {},
     "output_type": "execute_result"
    }
   ],
   "source": [
    "df.shape"
   ]
  },
  {
   "cell_type": "code",
   "execution_count": 45,
   "metadata": {},
   "outputs": [
    {
     "data": {
      "text/plain": [
       "(440, 6)"
      ]
     },
     "execution_count": 45,
     "metadata": {},
     "output_type": "execute_result"
    }
   ],
   "source": [
    "scaled_df.shape"
   ]
  },
  {
   "cell_type": "code",
   "execution_count": 47,
   "metadata": {},
   "outputs": [
    {
     "data": {
      "text/plain": [
       "(440, 3)"
      ]
     },
     "execution_count": 47,
     "metadata": {},
     "output_type": "execute_result"
    }
   ],
   "source": [
    "principalComponents_3.shape"
   ]
  },
  {
   "cell_type": "code",
   "execution_count": 48,
   "metadata": {},
   "outputs": [
    {
     "data": {
      "text/plain": [
       "(440, 4)"
      ]
     },
     "execution_count": 48,
     "metadata": {},
     "output_type": "execute_result"
    }
   ],
   "source": [
    "principalComponents_4.shape"
   ]
  },
  {
   "cell_type": "code",
   "execution_count": 54,
   "metadata": {},
   "outputs": [
    {
     "name": "stdout",
     "output_type": "stream",
     "text": [
      "HAC (Complete) Rand score:  0.27003381177444363\n",
      "HAC (Average) Rand score:  0.017604101668634606\n",
      "HAC (Average) Rand score:  0.25911054748543755\n"
     ]
    }
   ],
   "source": [
    "agg_comp = AgglomerativeClustering(linkage ='complete', n_clusters=6)\n",
    "agg_avg = AgglomerativeClustering(linkage ='average', n_clusters=6)\n",
    "agg_ward = AgglomerativeClustering(linkage ='ward', n_clusters=6)\n",
    "\n",
    "as_comp = agg_comp.fit_predict(df)\n",
    "labels_comp = agg_comp.labels_\n",
    "print('HAC (Complete) Rand score: ', adjusted_rand_score(labels_comp, channels))\n",
    "as_avg = agg_avg.fit_predict(df)\n",
    "labels_avg = agg_avg.labels_\n",
    "print('HAC (Average) Rand score: ', adjusted_rand_score(labels_avg, channels))\n",
    "as_ward = agg_ward.fit_predict(df)\n",
    "labels_ward = agg_ward.labels_\n",
    "print('HAC (Ward) Rand score: ', adjusted_rand_score(labels_ward, channels))"
   ]
  },
  {
   "cell_type": "code",
   "execution_count": 67,
   "metadata": {},
   "outputs": [],
   "source": [
    "def calc_rand(df, clusters):\n",
    "    print('Number of clusters:', clusters)\n",
    "    agg_comp = AgglomerativeClustering(linkage ='complete', n_clusters=clusters)\n",
    "    agg_avg = AgglomerativeClustering(linkage ='average', n_clusters=clusters)\n",
    "    agg_ward = AgglomerativeClustering(linkage ='ward', n_clusters=clusters)\n",
    "\n",
    "    as_comp = agg_comp.fit_predict(df)\n",
    "    labels_comp = agg_comp.labels_\n",
    "    print('HAC (Complete) Rand score: ', round(adjusted_rand_score(labels_comp, channels), 4))\n",
    "    as_avg = agg_avg.fit_predict(df)\n",
    "    labels_avg = agg_avg.labels_\n",
    "    print('HAC (Average) Rand score: ', round(adjusted_rand_score(labels_avg, channels), 4))\n",
    "    as_ward = agg_ward.fit_predict(df)\n",
    "    labels_ward = agg_ward.labels_\n",
    "    print('HAC (Ward) Rand score: ', round(adjusted_rand_score(labels_ward, channels), 4))"
   ]
  },
  {
   "cell_type": "code",
   "execution_count": 69,
   "metadata": {
    "scrolled": false
   },
   "outputs": [
    {
     "name": "stdout",
     "output_type": "stream",
     "text": [
      "Using original dataframe\n",
      "Number of clusters: 2\n",
      "HAC (Complete) Rand score:  -0.007\n",
      "HAC (Average) Rand score:  -0.0024\n",
      "HAC (Ward) Rand score:  -0.0192\n",
      "Number of clusters: 3\n",
      "HAC (Complete) Rand score:  0.0228\n",
      "HAC (Average) Rand score:  0.0227\n",
      "HAC (Ward) Rand score:  0.1152\n",
      "Number of clusters: 4\n",
      "HAC (Complete) Rand score:  0.0155\n",
      "HAC (Average) Rand score:  0.0177\n",
      "HAC (Ward) Rand score:  0.0942\n",
      "Number of clusters: 5\n",
      "HAC (Complete) Rand score:  0.0154\n",
      "HAC (Average) Rand score:  0.0176\n",
      "HAC (Ward) Rand score:  0.0906\n",
      "Number of clusters: 6\n",
      "HAC (Complete) Rand score:  0.27\n",
      "HAC (Average) Rand score:  0.0176\n",
      "HAC (Ward) Rand score:  0.2591\n",
      "Number of clusters: 7\n",
      "HAC (Complete) Rand score:  0.27\n",
      "HAC (Average) Rand score:  0.0176\n",
      "HAC (Ward) Rand score:  0.2583\n",
      "Number of clusters: 8\n",
      "HAC (Complete) Rand score:  0.172\n",
      "HAC (Average) Rand score:  0.0225\n",
      "HAC (Ward) Rand score:  0.2582\n",
      "Number of clusters: 9\n",
      "HAC (Complete) Rand score:  0.172\n",
      "HAC (Average) Rand score:  0.0225\n",
      "HAC (Ward) Rand score:  0.2581\n",
      "Number of clusters: 10\n",
      "HAC (Complete) Rand score:  0.172\n",
      "HAC (Average) Rand score:  -0.0154\n",
      "HAC (Ward) Rand score:  0.2452\n"
     ]
    }
   ],
   "source": [
    "print('Using original dataframe')\n",
    "for num_clusters in range(2, 11):\n",
    "    calc_rand(df, num_clusters)"
   ]
  },
  {
   "cell_type": "code",
   "execution_count": 70,
   "metadata": {
    "scrolled": true
   },
   "outputs": [
    {
     "name": "stdout",
     "output_type": "stream",
     "text": [
      "Using scaled dataframe\n",
      "Number of clusters: 2\n",
      "HAC (Complete) Rand score:  -0.0024\n",
      "HAC (Average) Rand score:  -0.0024\n",
      "HAC (Ward) Rand score:  0.0226\n",
      "Number of clusters: 3\n",
      "HAC (Complete) Rand score:  0.0485\n",
      "HAC (Average) Rand score:  0.0227\n",
      "HAC (Ward) Rand score:  0.4856\n",
      "Number of clusters: 4\n",
      "HAC (Complete) Rand score:  0.0432\n",
      "HAC (Average) Rand score:  0.0177\n",
      "HAC (Ward) Rand score:  0.4858\n",
      "Number of clusters: 5\n",
      "HAC (Complete) Rand score:  0.0407\n",
      "HAC (Average) Rand score:  0.0153\n",
      "HAC (Ward) Rand score:  0.298\n",
      "Number of clusters: 6\n",
      "HAC (Complete) Rand score:  0.0403\n",
      "HAC (Average) Rand score:  0.0152\n",
      "HAC (Ward) Rand score:  0.2795\n",
      "Number of clusters: 7\n",
      "HAC (Complete) Rand score:  0.0401\n",
      "HAC (Average) Rand score:  0.0152\n",
      "HAC (Ward) Rand score:  0.2775\n",
      "Number of clusters: 8\n",
      "HAC (Complete) Rand score:  0.0111\n",
      "HAC (Average) Rand score:  0.0151\n",
      "HAC (Ward) Rand score:  0.269\n",
      "Number of clusters: 9\n",
      "HAC (Complete) Rand score:  0.0108\n",
      "HAC (Average) Rand score:  0.0151\n",
      "HAC (Ward) Rand score:  0.2603\n",
      "Number of clusters: 10\n",
      "HAC (Complete) Rand score:  0.3872\n",
      "HAC (Average) Rand score:  0.0151\n",
      "HAC (Ward) Rand score:  0.2602\n"
     ]
    }
   ],
   "source": [
    "print('Using scaled dataframe')\n",
    "for num_clusters in range(2, 11):\n",
    "    calc_rand(scaled_df, num_clusters)"
   ]
  },
  {
   "cell_type": "code",
   "execution_count": 72,
   "metadata": {
    "scrolled": true
   },
   "outputs": [
    {
     "name": "stdout",
     "output_type": "stream",
     "text": [
      "Using PCA with 3 components on scaled dataframe\n",
      "Number of clusters: 2\n",
      "HAC (Complete) Rand score:  -0.0024\n",
      "HAC (Average) Rand score:  -0.0024\n",
      "HAC (Ward) Rand score:  0.0276\n",
      "Number of clusters: 3\n",
      "HAC (Complete) Rand score:  0.1763\n",
      "HAC (Average) Rand score:  0.0227\n",
      "HAC (Ward) Rand score:  0.533\n",
      "Number of clusters: 4\n",
      "HAC (Complete) Rand score:  0.1739\n",
      "HAC (Average) Rand score:  0.0177\n",
      "HAC (Ward) Rand score:  0.5332\n",
      "Number of clusters: 5\n",
      "HAC (Complete) Rand score:  0.1725\n",
      "HAC (Average) Rand score:  0.0177\n",
      "HAC (Ward) Rand score:  0.3199\n",
      "Number of clusters: 6\n",
      "HAC (Complete) Rand score:  0.1725\n",
      "HAC (Average) Rand score:  0.0153\n",
      "HAC (Ward) Rand score:  0.3099\n",
      "Number of clusters: 7\n",
      "HAC (Complete) Rand score:  0.1234\n",
      "HAC (Average) Rand score:  0.0152\n",
      "HAC (Ward) Rand score:  0.2928\n",
      "Number of clusters: 8\n",
      "HAC (Complete) Rand score:  0.1224\n",
      "HAC (Average) Rand score:  0.0037\n",
      "HAC (Ward) Rand score:  0.2925\n",
      "Number of clusters: 9\n",
      "HAC (Complete) Rand score:  0.1211\n",
      "HAC (Average) Rand score:  0.0878\n",
      "HAC (Ward) Rand score:  0.2818\n",
      "Number of clusters: 10\n",
      "HAC (Complete) Rand score:  0.1211\n",
      "HAC (Average) Rand score:  0.0879\n",
      "HAC (Ward) Rand score:  0.2709\n"
     ]
    }
   ],
   "source": [
    "print('Using PCA with 3 components on scaled dataframe')\n",
    "for num_clusters in range(2, 11):\n",
    "    calc_rand(principalComponents_3, num_clusters)"
   ]
  },
  {
   "cell_type": "code",
   "execution_count": 73,
   "metadata": {
    "scrolled": true
   },
   "outputs": [
    {
     "name": "stdout",
     "output_type": "stream",
     "text": [
      "Using PCA with 4 components on scaled dataframe\n",
      "Number of clusters: 2\n",
      "HAC (Complete) Rand score:  -0.0024\n",
      "HAC (Average) Rand score:  -0.0024\n",
      "HAC (Ward) Rand score:  0.0482\n",
      "Number of clusters: 3\n",
      "HAC (Complete) Rand score:  0.1763\n",
      "HAC (Average) Rand score:  0.0227\n",
      "HAC (Ward) Rand score:  0.5264\n",
      "Number of clusters: 4\n",
      "HAC (Complete) Rand score:  0.1697\n",
      "HAC (Average) Rand score:  0.0177\n",
      "HAC (Ward) Rand score:  0.5267\n",
      "Number of clusters: 5\n",
      "HAC (Complete) Rand score:  0.1673\n",
      "HAC (Average) Rand score:  0.0153\n",
      "HAC (Ward) Rand score:  0.3337\n",
      "Number of clusters: 6\n",
      "HAC (Complete) Rand score:  0.1486\n",
      "HAC (Average) Rand score:  0.0153\n",
      "HAC (Ward) Rand score:  0.3317\n",
      "Number of clusters: 7\n",
      "HAC (Complete) Rand score:  0.1474\n",
      "HAC (Average) Rand score:  0.0153\n",
      "HAC (Ward) Rand score:  0.3112\n",
      "Number of clusters: 8\n",
      "HAC (Complete) Rand score:  0.1463\n",
      "HAC (Average) Rand score:  0.0152\n",
      "HAC (Ward) Rand score:  0.2989\n",
      "Number of clusters: 9\n",
      "HAC (Complete) Rand score:  0.1462\n",
      "HAC (Average) Rand score:  0.0037\n",
      "HAC (Ward) Rand score:  0.2984\n",
      "Number of clusters: 10\n",
      "HAC (Complete) Rand score:  0.1462\n",
      "HAC (Average) Rand score:  0.0036\n",
      "HAC (Ward) Rand score:  0.2946\n"
     ]
    }
   ],
   "source": [
    "print('Using PCA with 4 components on scaled dataframe')\n",
    "for num_clusters in range(2, 11):\n",
    "    calc_rand(principalComponents_4, num_clusters)"
   ]
  },
  {
   "cell_type": "code",
   "execution_count": null,
   "metadata": {},
   "outputs": [],
   "source": [
    "# Winner! HAC using ward linkage and four clusters, using a PCA selection of the top three principal components, on a scaled dataframe"
   ]
  },
  {
   "cell_type": "markdown",
   "metadata": {},
   "source": [
    "## Summary\n",
    "\n",
    "In this lab, you used your knowledge of clustering to perform a market segmentation on a real-world dataset. You started with a cluster analysis with poor performance, and then implemented some changes to iteratively improve the performance of the clustering analysis!"
   ]
  }
 ],
 "metadata": {
  "kernelspec": {
   "display_name": "Python 3",
   "language": "python",
   "name": "python3"
  },
  "language_info": {
   "codemirror_mode": {
    "name": "ipython",
    "version": 3
   },
   "file_extension": ".py",
   "mimetype": "text/x-python",
   "name": "python",
   "nbconvert_exporter": "python",
   "pygments_lexer": "ipython3",
   "version": "3.6.9"
  }
 },
 "nbformat": 4,
 "nbformat_minor": 2
}
